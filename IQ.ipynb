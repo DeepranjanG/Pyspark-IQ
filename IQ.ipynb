{
 "cells": [
  {
   "cell_type": "markdown",
   "metadata": {},
   "source": [
    "#### **How to create partitions based on year and month ?**"
   ]
  },
  {
   "cell_type": "code",
   "execution_count": 2,
   "metadata": {},
   "outputs": [
    {
     "name": "stderr",
     "output_type": "stream",
     "text": [
      "Setting default log level to \"WARN\".\n",
      "To adjust logging level use sc.setLogLevel(newLevel). For SparkR, use setLogLevel(newLevel).\n",
      "23/01/30 12:05:59 WARN NativeCodeLoader: Unable to load native-hadoop library for your platform... using builtin-java classes where applicable\n"
     ]
    }
   ],
   "source": [
    "#necessary libraries of pyspark\n",
    "from pyspark.sql import SparkSession\n",
    "spark = SparkSession.builder.master(\"spark://localhost:7077\").appName(\"IQ\").getOrCreate()"
   ]
  },
  {
   "cell_type": "code",
   "execution_count": 6,
   "metadata": {},
   "outputs": [
    {
     "name": "stdout",
     "output_type": "stream",
     "text": [
      "+-----+------+--------+----+----------+----+----+------+------------+\n",
      "|EMPNO| ENAME|     JOB| MGR|  HIREDATE| SAL|COMM|DEPTNO|UPDATED_DATE|\n",
      "+-----+------+--------+----+----------+----+----+------+------------+\n",
      "| 7369| SMITH|   CLERK|7902|17-12-1980| 800|null|    20|  2022-01-01|\n",
      "| 7499| ALLEN|SALESMAN|7698|20-02-1981|1600| 300|    30|  2022-01-01|\n",
      "| 7521|  WARD|SALESMAN|7698|22-02-1981|1250| 500|    30|  2022-01-01|\n",
      "| 7566| JONES| MANAGER|7839|04-02-1981|2975|null|    20|  2022-01-05|\n",
      "| 7654|MARTIN|SALESMAN|7698|21-09-1981|1250|1400|    30|  2022-01-03|\n",
      "+-----+------+--------+----+----------+----+----+------+------------+\n",
      "only showing top 5 rows\n",
      "\n",
      "root\n",
      " |-- EMPNO: integer (nullable = true)\n",
      " |-- ENAME: string (nullable = true)\n",
      " |-- JOB: string (nullable = true)\n",
      " |-- MGR: integer (nullable = true)\n",
      " |-- HIREDATE: string (nullable = true)\n",
      " |-- SAL: integer (nullable = true)\n",
      " |-- COMM: integer (nullable = true)\n",
      " |-- DEPTNO: integer (nullable = true)\n",
      " |-- UPDATED_DATE: string (nullable = true)\n",
      "\n"
     ]
    }
   ],
   "source": [
    "df_emp_csv = spark.read.option(\"nullValue\", \"null\").csv(\"hdfs:/emp.csv\", header=True, inferSchema=True)\n",
    "df_emp_csv.show(5)\n",
    "df_emp_csv.printSchema()"
   ]
  },
  {
   "cell_type": "code",
   "execution_count": 11,
   "metadata": {},
   "outputs": [
    {
     "name": "stdout",
     "output_type": "stream",
     "text": [
      "+-----+------+--------+----+----------+----+----+------+------------+\n",
      "|EMPNO| ENAME|     JOB| MGR|  HIREDATE| SAL|COMM|DEPTNO|UPDATED_DATE|\n",
      "+-----+------+--------+----+----------+----+----+------+------------+\n",
      "| 7369| SMITH|   CLERK|7902|1980-12-17| 800|null|    20|  2022-01-01|\n",
      "| 7499| ALLEN|SALESMAN|7698|1981-02-20|1600| 300|    30|  2022-01-01|\n",
      "| 7521|  WARD|SALESMAN|7698|1981-02-22|1250| 500|    30|  2022-01-01|\n",
      "| 7566| JONES| MANAGER|7839|1981-02-04|2975|null|    20|  2022-01-05|\n",
      "| 7654|MARTIN|SALESMAN|7698|1981-09-21|1250|1400|    30|  2022-01-03|\n",
      "+-----+------+--------+----+----------+----+----+------+------------+\n",
      "only showing top 5 rows\n",
      "\n",
      "root\n",
      " |-- EMPNO: integer (nullable = true)\n",
      " |-- ENAME: string (nullable = true)\n",
      " |-- JOB: string (nullable = true)\n",
      " |-- MGR: integer (nullable = true)\n",
      " |-- HIREDATE: date (nullable = true)\n",
      " |-- SAL: integer (nullable = true)\n",
      " |-- COMM: integer (nullable = true)\n",
      " |-- DEPTNO: integer (nullable = true)\n",
      " |-- UPDATED_DATE: string (nullable = true)\n",
      "\n"
     ]
    }
   ],
   "source": [
    "from pyspark.sql.functions import to_date\n",
    "#change string to Data Datatype\n",
    "df_emp_csv = df_emp_csv.withColumn(\"HIREDATE\", to_date(\"HIREDATE\", 'dd-MM-yyyy')).fillna({\"HIREDATE\":'9999-12-31'})\n",
    "df_emp_csv.show(5)\n",
    "df_emp_csv.printSchema()"
   ]
  },
  {
   "cell_type": "code",
   "execution_count": null,
   "metadata": {},
   "outputs": [],
   "source": []
  }
 ],
 "metadata": {
  "kernelspec": {
   "display_name": "Python 3.9.13 ('base')",
   "language": "python",
   "name": "python3"
  },
  "language_info": {
   "codemirror_mode": {
    "name": "ipython",
    "version": 3
   },
   "file_extension": ".py",
   "mimetype": "text/x-python",
   "name": "python",
   "nbconvert_exporter": "python",
   "pygments_lexer": "ipython3",
   "version": "3.9.13"
  },
  "orig_nbformat": 4,
  "vscode": {
   "interpreter": {
    "hash": "ba7d6a92d9c7295bfdcfceb88786d0d9300abf0a1802f116b1f16ab64cdf39a0"
   }
  }
 },
 "nbformat": 4,
 "nbformat_minor": 2
}
